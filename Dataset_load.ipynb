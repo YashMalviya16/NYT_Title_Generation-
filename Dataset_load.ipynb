{
 "cells": [
  {
   "cell_type": "code",
   "execution_count": 1,
   "metadata": {},
   "outputs": [],
   "source": [
    "import numpy as np \n",
    "import pandas as pd "
   ]
  },
  {
   "cell_type": "code",
   "execution_count": 2,
   "metadata": {},
   "outputs": [],
   "source": [
    "Nyt_data = pd.read_csv(\"C:\\\\Users\\\\ftt\\\\Desktop\\\\Sem2_NLP_Stats\\\\NLP\\\\Final Project\\\\NYT_Title_Generation-\\\\NYT_Dataset.csv\")"
   ]
  },
  {
   "cell_type": "code",
   "execution_count": 3,
   "metadata": {},
   "outputs": [
    {
     "data": {
      "text/html": [
       "<div>\n",
       "<style scoped>\n",
       "    .dataframe tbody tr th:only-of-type {\n",
       "        vertical-align: middle;\n",
       "    }\n",
       "\n",
       "    .dataframe tbody tr th {\n",
       "        vertical-align: top;\n",
       "    }\n",
       "\n",
       "    .dataframe thead th {\n",
       "        text-align: right;\n",
       "    }\n",
       "</style>\n",
       "<table border=\"1\" class=\"dataframe\">\n",
       "  <thead>\n",
       "    <tr style=\"text-align: right;\">\n",
       "      <th></th>\n",
       "      <th>Unnamed: 0</th>\n",
       "      <th>ID</th>\n",
       "      <th>title</th>\n",
       "      <th>topic</th>\n",
       "      <th>abstract</th>\n",
       "      <th>Date</th>\n",
       "      <th>keywords</th>\n",
       "    </tr>\n",
       "  </thead>\n",
       "  <tbody>\n",
       "    <tr>\n",
       "      <th>0</th>\n",
       "      <td>0</td>\n",
       "      <td>nyt://article/178801fe-4679-5f12-985f-8344a86e...</td>\n",
       "      <td>In Reversal, Pakistan Welcomes Outside Help Wi...</td>\n",
       "      <td>Foreign</td>\n",
       "      <td>Pakistan’s ambassador to the U.S. said his gov...</td>\n",
       "      <td>2008-01-01 05:00:00+00:00</td>\n",
       "      <td>['Assassinations and Attempted Assassinations'...</td>\n",
       "    </tr>\n",
       "    <tr>\n",
       "      <th>1</th>\n",
       "      <td>1</td>\n",
       "      <td>nyt://article/21acedcb-a7f6-5131-99cf-d3a47e33...</td>\n",
       "      <td>Fighting Intensifies After Election in Kenya</td>\n",
       "      <td>Foreign</td>\n",
       "      <td>Kenya sank deeper into trouble, with a curfew ...</td>\n",
       "      <td>2008-01-01 05:00:00+00:00</td>\n",
       "      <td>['Kenya', 'Demonstrations and Riots', 'Odinga,...</td>\n",
       "    </tr>\n",
       "    <tr>\n",
       "      <th>2</th>\n",
       "      <td>2</td>\n",
       "      <td>nyt://article/357b5429-a9f8-5d33-a5eb-c013a201...</td>\n",
       "      <td>Israel: Olmert Curbs Settlements</td>\n",
       "      <td>Foreign</td>\n",
       "      <td>Prime Minister Ehud Olmert has sent a letter t...</td>\n",
       "      <td>2008-01-01 05:00:00+00:00</td>\n",
       "      <td>['West Bank']</td>\n",
       "    </tr>\n",
       "    <tr>\n",
       "      <th>3</th>\n",
       "      <td>3</td>\n",
       "      <td>nyt://article/619ca4ea-50e4-59e4-97bb-f206502c...</td>\n",
       "      <td>Gay Muslims Pack a Dance Floor of Their Own</td>\n",
       "      <td>Foreign</td>\n",
       "      <td>The monthly club night known as Gayhane is an ...</td>\n",
       "      <td>2008-01-01 05:00:00+00:00</td>\n",
       "      <td>['Homosexuality', 'Islam', 'IMMIGRATION AND RE...</td>\n",
       "    </tr>\n",
       "    <tr>\n",
       "      <th>4</th>\n",
       "      <td>4</td>\n",
       "      <td>nyt://article/73c49a5a-bcf1-5b8f-a15a-98d29003...</td>\n",
       "      <td>Iraqi Revelers Embrace the New Year</td>\n",
       "      <td>Foreign</td>\n",
       "      <td>But even as partygoers embraced the New Year, ...</td>\n",
       "      <td>2008-01-01 05:00:00+00:00</td>\n",
       "      <td>['ARMAMENT, DEFENSE AND MILITARY FORCES', 'Iraq']</td>\n",
       "    </tr>\n",
       "  </tbody>\n",
       "</table>\n",
       "</div>"
      ],
      "text/plain": [
       "   Unnamed: 0                                                 ID  \\\n",
       "0           0  nyt://article/178801fe-4679-5f12-985f-8344a86e...   \n",
       "1           1  nyt://article/21acedcb-a7f6-5131-99cf-d3a47e33...   \n",
       "2           2  nyt://article/357b5429-a9f8-5d33-a5eb-c013a201...   \n",
       "3           3  nyt://article/619ca4ea-50e4-59e4-97bb-f206502c...   \n",
       "4           4  nyt://article/73c49a5a-bcf1-5b8f-a15a-98d29003...   \n",
       "\n",
       "                                               title    topic  \\\n",
       "0  In Reversal, Pakistan Welcomes Outside Help Wi...  Foreign   \n",
       "1       Fighting Intensifies After Election in Kenya  Foreign   \n",
       "2                   Israel: Olmert Curbs Settlements  Foreign   \n",
       "3        Gay Muslims Pack a Dance Floor of Their Own  Foreign   \n",
       "4                Iraqi Revelers Embrace the New Year  Foreign   \n",
       "\n",
       "                                            abstract  \\\n",
       "0  Pakistan’s ambassador to the U.S. said his gov...   \n",
       "1  Kenya sank deeper into trouble, with a curfew ...   \n",
       "2  Prime Minister Ehud Olmert has sent a letter t...   \n",
       "3  The monthly club night known as Gayhane is an ...   \n",
       "4  But even as partygoers embraced the New Year, ...   \n",
       "\n",
       "                        Date  \\\n",
       "0  2008-01-01 05:00:00+00:00   \n",
       "1  2008-01-01 05:00:00+00:00   \n",
       "2  2008-01-01 05:00:00+00:00   \n",
       "3  2008-01-01 05:00:00+00:00   \n",
       "4  2008-01-01 05:00:00+00:00   \n",
       "\n",
       "                                            keywords  \n",
       "0  ['Assassinations and Attempted Assassinations'...  \n",
       "1  ['Kenya', 'Demonstrations and Riots', 'Odinga,...  \n",
       "2                                      ['West Bank']  \n",
       "3  ['Homosexuality', 'Islam', 'IMMIGRATION AND RE...  \n",
       "4  ['ARMAMENT, DEFENSE AND MILITARY FORCES', 'Iraq']  "
      ]
     },
     "execution_count": 3,
     "metadata": {},
     "output_type": "execute_result"
    }
   ],
   "source": [
    "Nyt_data.head()"
   ]
  },
  {
   "cell_type": "code",
   "execution_count": 4,
   "metadata": {},
   "outputs": [
    {
     "data": {
      "text/plain": [
       "(53253, 7)"
      ]
     },
     "execution_count": 4,
     "metadata": {},
     "output_type": "execute_result"
    }
   ],
   "source": [
    "Sample_nyt = Nyt_data.sample(frac=0.5)\n",
    "Sample_nyt.shape"
   ]
  },
  {
   "cell_type": "code",
   "execution_count": 5,
   "metadata": {},
   "outputs": [
    {
     "data": {
      "text/plain": [
       "Index(['Unnamed: 0', 'ID', 'title', 'topic', 'abstract', 'Date', 'keywords'], dtype='object')"
      ]
     },
     "execution_count": 5,
     "metadata": {},
     "output_type": "execute_result"
    }
   ],
   "source": [
    "Sample_nyt.columns"
   ]
  },
  {
   "cell_type": "code",
   "execution_count": 6,
   "metadata": {},
   "outputs": [],
   "source": [
    "Sample_nyt['Date'] =pd.to_datetime(Sample_nyt['Date'])\n",
    "Sample_nyt['Year'] = Sample_nyt['Date'].dt.year\n",
    "articles_per_year = Sample_nyt['Year'].value_counts().sort_index()"
   ]
  },
  {
   "cell_type": "code",
   "execution_count": 7,
   "metadata": {},
   "outputs": [
    {
     "data": {
      "text/plain": [
       "Year\n",
       "2007       1\n",
       "2008    3072\n",
       "2009    3361\n",
       "2010    3502\n",
       "2011    3792\n",
       "2012    3648\n",
       "2013    3720\n",
       "2014    4885\n",
       "2015    5755\n",
       "2016    4579\n",
       "2017    3235\n",
       "2018    3017\n",
       "2019    3416\n",
       "2020    4798\n",
       "2021    2472\n",
       "Name: count, dtype: int64"
      ]
     },
     "execution_count": 7,
     "metadata": {},
     "output_type": "execute_result"
    }
   ],
   "source": [
    "articles_per_year"
   ]
  },
  {
   "cell_type": "code",
   "execution_count": 10,
   "metadata": {},
   "outputs": [
    {
     "data": {
      "image/png": "[encoded data removed]",
      "text/plain": [
       "<Figure size 1000x600 with 1 Axes>"
      ]
     },
     "metadata": {},
     "output_type": "display_data"
    }
   ],
   "source": [
    "import matplotlib.pyplot as plt\n",
    "articles_per_year = pd.Series([100, 120, 150, 130, 110, 125], index=[2015, 2016, 2017, 2018, 2019, 2020])\n",
    "\n",
    "# Plotting\n",
    "plt.figure(figsize=(10, 6))\n",
    "articles_per_year.plot(kind='bar', color='skyblue', edgecolor='black')\n",
    "plt.title('Number of Articles per Year')\n",
    "plt.xlabel('Year')\n",
    "plt.ylabel('Number of Articles')\n",
    "plt.xticks(rotation=45)\n",
    "plt.grid(axis='y', linestyle='--', alpha=0.7)\n",
    "plt.show()"
   ]
  },
  {
   "cell_type": "code",
   "execution_count": null,
   "metadata": {},
   "outputs": [],
   "source": []
  }
 ],
 "metadata": {
  "kernelspec": {
   "display_name": "Python 3",
   "language": "python",
   "name": "python3"
  },
  "language_info": {
   "codemirror_mode": {
    "name": "ipython",
    "version": 3
   },
   "file_extension": ".py",
   "mimetype": "text/x-python",
   "name": "python",
   "nbconvert_exporter": "python",
   "pygments_lexer": "ipython3",
   "version": "3.11.5"
  }
 },
 "nbformat": 4,
 "nbformat_minor": 2
}
